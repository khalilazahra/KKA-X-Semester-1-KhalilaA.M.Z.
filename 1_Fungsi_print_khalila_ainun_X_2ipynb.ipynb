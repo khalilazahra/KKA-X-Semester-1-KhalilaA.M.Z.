{
  "nbformat": 4,
  "nbformat_minor": 0,
  "metadata": {
    "colab": {
      "provenance": [],
      "authorship_tag": "ABX9TyMLFdDv0K3gpeyXbJZ68mZx",
      "include_colab_link": true
    },
    "kernelspec": {
      "name": "python3",
      "display_name": "Python 3"
    },
    "language_info": {
      "name": "python"
    }
  },
  "cells": [
    {
      "cell_type": "markdown",
      "metadata": {
        "id": "view-in-github",
        "colab_type": "text"
      },
      "source": [
        "<a href=\"https://colab.research.google.com/github/khalilazahra/KKA-X-Semester-1-KhalilaA.M.Z./blob/main/1_Fungsi_print_khalila_ainun_X_2ipynb.ipynb\" target=\"_parent\"><img src=\"https://colab.research.google.com/assets/colab-badge.svg\" alt=\"Open In Colab\"/></a>"
      ]
    },
    {
      "cell_type": "markdown",
      "source": [
        "Escape Character"
      ],
      "metadata": {
        "id": "UGrFWGn64Wc1"
      }
    },
    {
      "cell_type": "code",
      "execution_count": null,
      "metadata": {
        "colab": {
          "base_uri": "https://localhost:8080/"
        },
        "id": "HpQGkE0X2Rq-",
        "outputId": "6cca811c-ddf6-486e-babc-e1ce2f986e58"
      },
      "outputs": [
        {
          "output_type": "stream",
          "name": "stdout",
          "text": [
            "Nama: Khalila Ainun May Zahra\n",
            "Kelas: X.2\n",
            "No.Absen:17\n"
          ]
        }
      ],
      "source": [
        "print(\"Nama\\ Khalila Ainun May Zahra\\nKelas: X.2\\nNo.Absen:17\")"
      ]
    },
    {
      "cell_type": "code",
      "source": [
        "print(\"Nama: Khalila Ainun May Zahra\")\n",
        "print(\"Kelas: X.2\")\n",
        "print(\"No. Absen: 17\")"
      ],
      "metadata": {
        "colab": {
          "base_uri": "https://localhost:8080/"
        },
        "id": "szUkVIMH3F3Y",
        "outputId": "732e7a95-1c81-43ad-df25-608ca377c42e"
      },
      "execution_count": null,
      "outputs": [
        {
          "output_type": "stream",
          "name": "stdout",
          "text": [
            "Nama: Khalila Ainun May Zahra\n",
            "Kelas: X.2\n",
            "No. Absen: 17\n"
          ]
        }
      ]
    },
    {
      "cell_type": "code",
      "source": [
        "print(\"\"\"Nama: Khalila Ainun May Zahra\n",
        "Kelas: X.2\n",
        "No.Absen: 17\"\"\")"
      ],
      "metadata": {
        "colab": {
          "base_uri": "https://localhost:8080/"
        },
        "id": "p022NApa33bd",
        "outputId": "15f31e2d-1cba-43de-d04d-9375e087c16e"
      },
      "execution_count": null,
      "outputs": [
        {
          "output_type": "stream",
          "name": "stdout",
          "text": [
            "Nama: Khalila Ainun May Zahra\n",
            "Kelas: X.2\n",
            "No.Absen: 17\n"
          ]
        }
      ]
    },
    {
      "cell_type": "markdown",
      "source": [
        "#parameter fungsi print"
      ],
      "metadata": {
        "id": "nAqNFY2Z6DdO"
      }
    },
    {
      "cell_type": "markdown",
      "source": [
        "#"
      ],
      "metadata": {
        "id": "9vtYBFcN05QZ"
      }
    },
    {
      "cell_type": "code",
      "source": [
        "print(\"Nama\\t\\t: Khalila Ainun May Zahra\\nKelas\\t\\t: X.2\\nNo.Absen\\t:17\")"
      ],
      "metadata": {
        "colab": {
          "base_uri": "https://localhost:8080/"
        },
        "id": "3htH8au56MjE",
        "outputId": "66b2a8f2-bd9a-453f-b3eb-88f8bd886ff0"
      },
      "execution_count": null,
      "outputs": [
        {
          "output_type": "stream",
          "name": "stdout",
          "text": [
            "Nama\t\t: Khalila Ainun May Zahra\n",
            "Kelas\t\t: X.2\n",
            "No.Absen\t:17\n"
          ]
        }
      ]
    },
    {
      "cell_type": "code",
      "source": [
        "nama_siswa_1 = \"Jielo\"\n",
        "nama_siswa_2 = \"Aida\"\n",
        "nama_siswa_3 = \"Dani\"\n",
        "print(nama_siswa_1, end=\"/\")\n",
        "print(nama_siswa_2, end=\"/\")\n",
        "print(nama_siswa_3, end=\"/\")"
      ],
      "metadata": {
        "colab": {
          "base_uri": "https://localhost:8080/"
        },
        "id": "d3Ga3Y6b0-E5",
        "outputId": "704d902f-b2dd-442f-c09f-df70423ec58d"
      },
      "execution_count": null,
      "outputs": [
        {
          "output_type": "stream",
          "name": "stdout",
          "text": [
            "Jielo/Aida/Dani/"
          ]
        }
      ]
    },
    {
      "cell_type": "code",
      "source": [
        "\n",
        "nama_siswa_5 = \"Hasbi\"\n",
        "nama_siswa_6 = \"Habibi\"\n",
        "nama_siswa_7 = \"Rendra\"\n",
        "nama_siswa_8 = \"Naufal\"\n",
        "print(nama_siswa_5, nama_siswa_6, nama_siswa_7, nama_siswa_8, sep=\"-\")"
      ],
      "metadata": {
        "colab": {
          "base_uri": "https://localhost:8080/"
        },
        "id": "syehMJcY3LAq",
        "outputId": "7ae5497d-5993-491d-d169-d9cbc81c69c3"
      },
      "execution_count": null,
      "outputs": [
        {
          "output_type": "stream",
          "name": "stdout",
          "text": [
            "Hasbi-Habibi-Rendra-Naufal\n"
          ]
        }
      ]
    },
    {
      "cell_type": "code",
      "source": [
        "print(\"Jadwal piket\")"
      ],
      "metadata": {
        "colab": {
          "base_uri": "https://localhost:8080/"
        },
        "id": "BbvBI-bE775E",
        "outputId": "3a94684a-b434-4aa3-df42-e69a102832c7"
      },
      "execution_count": null,
      "outputs": [
        {
          "output_type": "stream",
          "name": "stdout",
          "text": [
            "Jadwal piket\n"
          ]
        }
      ]
    },
    {
      "cell_type": "code",
      "source": [
        "print(\"============\")"
      ],
      "metadata": {
        "colab": {
          "base_uri": "https://localhost:8080/"
        },
        "id": "Xmge-39t8vt5",
        "outputId": "0b83700c-752b-458a-811e-6a85710efcd8"
      },
      "execution_count": null,
      "outputs": [
        {
          "output_type": "stream",
          "name": "stdout",
          "text": [
            "============\n"
          ]
        }
      ]
    },
    {
      "cell_type": "code",
      "source": [
        "print(\"senin\\tJielo\\tAzam\")"
      ],
      "metadata": {
        "colab": {
          "base_uri": "https://localhost:8080/"
        },
        "id": "ps8YmTHb87Id",
        "outputId": "493d84bc-b565-426b-faff-97939bb15a25"
      },
      "execution_count": null,
      "outputs": [
        {
          "output_type": "stream",
          "name": "stdout",
          "text": [
            "senin\tJielo\tAzam\n"
          ]
        }
      ]
    },
    {
      "cell_type": "code",
      "source": [
        "print(\"selasa\\tHasbi\\tAida\")"
      ],
      "metadata": {
        "colab": {
          "base_uri": "https://localhost:8080/"
        },
        "id": "VPfiY1VG9k6l",
        "outputId": "a419e2dc-79c4-435c-cb2c-e87f125b75f0"
      },
      "execution_count": null,
      "outputs": [
        {
          "output_type": "stream",
          "name": "stdout",
          "text": [
            "selasa\tHasbi\tAida\n"
          ]
        }
      ]
    },
    {
      "cell_type": "code",
      "source": [
        "print(\"rabu\\tNaufal\\tNurul\")"
      ],
      "metadata": {
        "colab": {
          "base_uri": "https://localhost:8080/"
        },
        "id": "TFXdkv_J9xrl",
        "outputId": "16b6dbd9-6d80-44c7-efab-e0911667c5f9"
      },
      "execution_count": null,
      "outputs": [
        {
          "output_type": "stream",
          "name": "stdout",
          "text": [
            "rabu\tNaufal\tNurul\n"
          ]
        }
      ]
    },
    {
      "cell_type": "code",
      "source": [
        "print(\"Jadwal piket\")\n",
        "print(\"============\")\n",
        "print(\"senin\\tJielo\\tAzam\")\n",
        "print(\"selasa\\tHasbi\\tAida\")\n",
        "print(\"rabu\\tNaufal\\tNurul\")"
      ],
      "metadata": {
        "colab": {
          "base_uri": "https://localhost:8080/"
        },
        "id": "4wSdPWPm980u",
        "outputId": "7ed889e6-4749-4eea-a6e3-a7c435f50fd9"
      },
      "execution_count": null,
      "outputs": [
        {
          "output_type": "stream",
          "name": "stdout",
          "text": [
            "Jadwal piket\n",
            "============\n",
            "senin\tJielo\tAzam\n",
            "selasa\tHasbi\tAida\n",
            "rabu\tNaufal\tNurul\n"
          ]
        }
      ]
    }
  ]
}